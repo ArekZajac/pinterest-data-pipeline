{
 "cells": [
  {
   "cell_type": "markdown",
   "metadata": {
    "application/vnd.databricks.v1+cell": {
     "cellMetadata": {},
     "inputWidgets": {},
     "nuid": "634d42e4-d38c-4398-9849-467397d1ae07",
     "showTitle": false,
     "title": ""
    }
   },
   "source": [
    "### Find Most Popular Category per Country"
   ]
  },
  {
   "cell_type": "code",
   "execution_count": null,
   "metadata": {
    "application/vnd.databricks.v1+cell": {
     "cellMetadata": {
      "byteLimit": 2048000,
      "rowLimit": 10000
     },
     "inputWidgets": {},
     "nuid": "66217540-8c22-42e0-b82e-389cfbdf8023",
     "showTitle": false,
     "title": ""
    }
   },
   "outputs": [],
   "source": [
    "# Join the geo and pin DataFrames on the 'ind' column\n",
    "df_joined = df_geo.join(df_pin, \"ind\")\n",
    "\n",
    "# Group by country and category and count the occurrences\n",
    "df_category_count = df_joined.groupBy(\"country\", \"category\").agg(count(\"*\").alias(\"category_count\"))\n",
    "\n",
    "# Find the most popular category for each country by sorting within each group\n",
    "window = Window.partitionBy(\"country\").orderBy(col(\"category_count\").desc())\n",
    "\n",
    "df_most_popular = df_category_count.withColumn(\"rank\", rank().over(window)) \\\n",
    "                                   .filter(col(\"rank\") == 1) \\\n",
    "                                   .drop(\"rank\")\n",
    "\n",
    "# Select the desired columns for the final DataFrame\n",
    "df_final = df_most_popular.select(\"country\", \"category\", \"category_count\")\n",
    "\n",
    "display(df_final.select(\"*\"))"
   ]
  },
  {
   "cell_type": "markdown",
   "metadata": {
    "application/vnd.databricks.v1+cell": {
     "cellMetadata": {},
     "inputWidgets": {},
     "nuid": "39fa902e-7427-4bf3-9438-ce3f2052bc2f",
     "showTitle": false,
     "title": ""
    }
   },
   "source": [
    "### Find Post Count per Category Between 2018 & 2022"
   ]
  },
  {
   "cell_type": "code",
   "execution_count": null,
   "metadata": {
    "application/vnd.databricks.v1+cell": {
     "cellMetadata": {
      "byteLimit": 2048000,
      "rowLimit": 10000
     },
     "inputWidgets": {},
     "nuid": "abc27421-9c7a-4073-9c60-53c2e5302aa3",
     "showTitle": false,
     "title": "Find Post Count per Category Between 2018 & 2022"
    }
   },
   "outputs": [],
   "source": [
    "df_joined = df_pin.join(df_geo, 'ind', 'inner')\n",
    "\n",
    "# Convert the timestamp column from string to timestamp type if it's not already\n",
    "df_joined = df_joined.withColumn(\"timestamp\", col(\"timestamp\").cast(\"timestamp\"))\n",
    "\n",
    "# Filter the DataFrame for posts between 2018 and 2022\n",
    "df_filtered = df_joined.filter((year(\"timestamp\") >= 2018) & (year(\"timestamp\") <= 2022))\n",
    "\n",
    "# Create a new column with just the year from the timestamp\n",
    "df_with_year = df_filtered.withColumn(\"post_year\", year(\"timestamp\"))\n",
    "\n",
    "# Group by post_year and category and count the occurrences\n",
    "df_category_count = df_with_year.groupBy(\"post_year\", \"category\").agg(count(\"*\").alias(\"category_count\"))\n",
    "\n",
    "# Order the result for better readability\n",
    "df_result = df_category_count.orderBy(\"post_year\", \"category\")\n",
    "\n",
    "display(df_result.select(\"*\"))"
   ]
  },
  {
   "cell_type": "markdown",
   "metadata": {
    "application/vnd.databricks.v1+cell": {
     "cellMetadata": {},
     "inputWidgets": {},
     "nuid": "7f9c6b04-7bf0-423a-9a68-3331a46f6019",
     "showTitle": false,
     "title": ""
    }
   },
   "source": [
    "### Find Most Followed User per Country"
   ]
  },
  {
   "cell_type": "code",
   "execution_count": null,
   "metadata": {
    "application/vnd.databricks.v1+cell": {
     "cellMetadata": {
      "byteLimit": 2048000,
      "rowLimit": 10000
     },
     "inputWidgets": {},
     "nuid": "c87a25a1-1f07-4347-b60e-395a0db70d77",
     "showTitle": false,
     "title": "Find Most Followed User per Country"
    }
   },
   "outputs": [],
   "source": [
    "df_joined = df_pin.join(df_geo, 'ind', 'inner')\n",
    "\n",
    "# Define a window spec partitioned by country\n",
    "windowSpec = Window.partitionBy(\"country\").orderBy(col(\"follower_count\").desc())\n",
    "\n",
    "# Use the window spec to add a row number for each user within each country partition\n",
    "df_ranked = df_joined.withColumn(\"row_number\", row_number().over(windowSpec))\n",
    "\n",
    "# Filter for the top user (row_number 1) in each country\n",
    "df_top_user_per_country = df_ranked.filter(col(\"row_number\") == 1) \\\n",
    "                                   .select(\"country\", \"poster_name\", \"follower_count\")\n",
    "\n",
    "display(df_top_user_per_country.select(\"*\"))"
   ]
  },
  {
   "cell_type": "markdown",
   "metadata": {
    "application/vnd.databricks.v1+cell": {
     "cellMetadata": {},
     "inputWidgets": {},
     "nuid": "f452f3d9-dc5b-4633-9848-2832148cb8e6",
     "showTitle": false,
     "title": ""
    }
   },
   "source": [
    "### Find The Country With Most Followed User"
   ]
  },
  {
   "cell_type": "code",
   "execution_count": null,
   "metadata": {
    "application/vnd.databricks.v1+cell": {
     "cellMetadata": {
      "byteLimit": 2048000,
      "rowLimit": 10000
     },
     "inputWidgets": {},
     "nuid": "6960b7fa-a285-4a4e-98b3-541027570706",
     "showTitle": false,
     "title": "Find The Country With Most Followed User"
    }
   },
   "outputs": [],
   "source": [
    "# Find the maximum follower count across all countries\n",
    "max_global_follower_count = df_top_followers_per_country.agg(max(\"follower_count\")).collect()[0][0]\n",
    "\n",
    "# Find the country or countries with the user that has the maximum global follower count\n",
    "df_country_with_top_follower = df_top_followers_per_country.filter(col(\"follower_count\") == max_global_follower_count) \\\n",
    "                                                            .select(\"country\", \"follower_count\")\n",
    "\n",
    "# Display the results\n",
    "display(df_country_with_top_follower.select(\"*\"))"
   ]
  },
  {
   "cell_type": "markdown",
   "metadata": {
    "application/vnd.databricks.v1+cell": {
     "cellMetadata": {},
     "inputWidgets": {},
     "nuid": "a934b61c-582d-4ff2-bc46-de1de98f04ef",
     "showTitle": false,
     "title": ""
    }
   },
   "source": [
    "### Find Most Popular Category per Age Group"
   ]
  },
  {
   "cell_type": "code",
   "execution_count": null,
   "metadata": {
    "application/vnd.databricks.v1+cell": {
     "cellMetadata": {
      "byteLimit": 2048000,
      "rowLimit": 10000
     },
     "inputWidgets": {},
     "nuid": "5cf3e54d-f866-435f-b404-e2a95866decc",
     "showTitle": false,
     "title": "Find Most Popular Category per Age Group"
    }
   },
   "outputs": [],
   "source": [
    "df_joined = df_pin.join(df_user, 'ind', 'inner')\n",
    "\n",
    "# Create the age_group column\n",
    "df_with_age_group = df_joined.withColumn(\n",
    "    \"age_group\",\n",
    "    when(col(\"age\").between(18, 24), \"18-24\")\n",
    "    .when(col(\"age\").between(25, 35), \"25-35\")\n",
    "    .when(col(\"age\").between(36, 50), \"36-50\")\n",
    "    .otherwise(\"50+\")\n",
    ")\n",
    "\n",
    "# Group by age_group and category and count the occurrences\n",
    "df_category_count = df_with_age_group.groupBy(\"age_group\", \"category\").agg(count(\"*\").alias(\"category_count\"))\n",
    "\n",
    "# Define a window spec partitioned by age_group and ordered by category_count descending\n",
    "windowSpec = Window.partitionBy(\"age_group\").orderBy(col(\"category_count\").desc())\n",
    "\n",
    "# Use the window spec to add a rank for each category within each age group partition\n",
    "df_ranked = df_category_count.withColumn(\"rank\", rank().over(windowSpec))\n",
    "\n",
    "# Filter for the top-ranked category within each age group\n",
    "df_top_category_per_age_group = df_ranked.filter(col(\"rank\") == 1).select(\"age_group\", \"category\", \"category_count\")\n",
    "\n",
    "display(df_top_category_per_age_group)"
   ]
  },
  {
   "cell_type": "markdown",
   "metadata": {
    "application/vnd.databricks.v1+cell": {
     "cellMetadata": {},
     "inputWidgets": {},
     "nuid": "d0e28e1e-69bd-4f63-86e3-a1ad74facfaf",
     "showTitle": false,
     "title": ""
    }
   },
   "source": [
    "### Find Median Follower Count per Age Group"
   ]
  },
  {
   "cell_type": "code",
   "execution_count": null,
   "metadata": {
    "application/vnd.databricks.v1+cell": {
     "cellMetadata": {
      "byteLimit": 2048000,
      "rowLimit": 10000
     },
     "inputWidgets": {},
     "nuid": "857458b8-bede-48fe-b03f-0bc660d19f9d",
     "showTitle": false,
     "title": "Find Median Follower Count per Age Group"
    }
   },
   "outputs": [],
   "source": [
    "df_joined = df_pin.join(df_user, 'ind', 'inner')\n",
    "\n",
    "# Age groups\n",
    "df_with_age_group = df_joined.withColumn(\n",
    "    \"age_group\",\n",
    "    when(col(\"age\").between(18, 24), \"18-24\")\n",
    "    .when(col(\"age\").between(25, 35), \"25-35\")\n",
    "    .when(col(\"age\").between(36, 50), \"36-50\")\n",
    "    .otherwise(\"50+\")\n",
    ")\n",
    "\n",
    "# Group by age_group and calculate the median follower count\n",
    "df_median_follower_count = df_with_age_group.groupBy(\"age_group\")\\\n",
    "                                            .agg(percentile_approx(\"follower_count\", 0.5).alias(\"median_follower_count\"))\n",
    "\n",
    "# Display the result\n",
    "display(df_median_follower_count)\n"
   ]
  },
  {
   "cell_type": "markdown",
   "metadata": {
    "application/vnd.databricks.v1+cell": {
     "cellMetadata": {},
     "inputWidgets": {},
     "nuid": "8aafbe4e-ace0-4e1f-b3d7-9a6888097fd8",
     "showTitle": false,
     "title": ""
    }
   },
   "source": [
    "### Find New User Count Between 2015 & 2020"
   ]
  },
  {
   "cell_type": "code",
   "execution_count": null,
   "metadata": {
    "application/vnd.databricks.v1+cell": {
     "cellMetadata": {
      "byteLimit": 2048000,
      "rowLimit": 10000
     },
     "inputWidgets": {},
     "nuid": "ea4c292b-f3f9-490b-ae7d-49eefc4fcf9e",
     "showTitle": false,
     "title": "Find New User Count Between 2015 & 2020"
    }
   },
   "outputs": [],
   "source": [
    "# Convert the date_joined column from string to date type\n",
    "df_user = df_user.withColumn(\"date_joined\", col(\"date_joined\").cast(DateType()))\n",
    "\n",
    "# Extract the year from the date_joined column\n",
    "df_with_year = df_user.withColumn(\"post_year\", year(col(\"date_joined\")))\n",
    "\n",
    "# Filter the DataFrame for years between 2015 and 2020\n",
    "df_filtered = df_with_year.filter((col(\"post_year\") >= 2015) & (col(\"post_year\") <= 2020))\n",
    "\n",
    "# Group by post_year and count the number of users\n",
    "df_number_users_joined = df_filtered.groupBy(\"post_year\").agg(count(\"*\").alias(\"number_users_joined\"))\n",
    "\n",
    "display(df_number_users_joined)"
   ]
  },
  {
   "cell_type": "markdown",
   "metadata": {
    "application/vnd.databricks.v1+cell": {
     "cellMetadata": {},
     "inputWidgets": {},
     "nuid": "11be983d-70b8-408e-b7dd-b3fad445fb72",
     "showTitle": false,
     "title": ""
    }
   },
   "source": [
    "### Find Median Follower Count of Users Joined Between 2015 & 2020"
   ]
  },
  {
   "cell_type": "code",
   "execution_count": null,
   "metadata": {
    "application/vnd.databricks.v1+cell": {
     "cellMetadata": {
      "byteLimit": 2048000,
      "rowLimit": 10000
     },
     "inputWidgets": {},
     "nuid": "943e1645-9aac-4bb1-afc7-37f4e92edea2",
     "showTitle": false,
     "title": "Find Median Follower Count of Users Joined Between 2015 & 2020"
    }
   },
   "outputs": [],
   "source": [
    "# Filter users who joined between 2015 and 2020\n",
    "df_filtered_users = df_user.withColumn(\"date_joined\", col(\"date_joined\").cast(\"timestamp\")) \\\n",
    "                           .withColumn(\"post_year\", year(\"date_joined\")) \\\n",
    "                           .filter((col(\"post_year\") >= 2015) & (col(\"post_year\") <= 2020))\n",
    "\n",
    "df_joined = df_filtered_users.join(df_pin, 'ind', 'inner')\n",
    "\n",
    "# Calculate the median follower count per post year\n",
    "df_median_follower_count = df_joined.groupBy(\"post_year\") \\\n",
    "                                    .agg(expr(\"percentile_approx(follower_count, 0.5)\").alias(\"median_follower_count\"))\n",
    "\n",
    "display(df_median_follower_count)"
   ]
  },
  {
   "cell_type": "markdown",
   "metadata": {
    "application/vnd.databricks.v1+cell": {
     "cellMetadata": {},
     "inputWidgets": {},
     "nuid": "5a33e510-d9b5-4e11-9e01-5f21a3aef59a",
     "showTitle": false,
     "title": ""
    }
   },
   "source": [
    "### Find Median Follower Count per Joining Year & Age Group"
   ]
  },
  {
   "cell_type": "code",
   "execution_count": null,
   "metadata": {
    "application/vnd.databricks.v1+cell": {
     "cellMetadata": {
      "byteLimit": 2048000,
      "rowLimit": 10000
     },
     "inputWidgets": {},
     "nuid": "a3d7e287-460d-4cbd-9995-61f5da40b0ec",
     "showTitle": false,
     "title": "Find Median Follower Count per Joining Year & Age Group"
    }
   },
   "outputs": [],
   "source": [
    "# Filter users who joined between 2015 and 2020\n",
    "df_users_filtered = df_user.withColumn(\"date_joined\", col(\"date_joined\").cast(\"timestamp\")) \\\n",
    "                           .withColumn(\"post_year\", year(col(\"date_joined\"))) \\\n",
    "                           .filter((col(\"post_year\") >= 2015) & (col(\"post_year\") <= 2020))\n",
    "\n",
    "# Create the age_group column\n",
    "df_users_age_grouped = df_users_filtered.withColumn(\n",
    "    \"age_group\",\n",
    "    when(col(\"age\").between(18, 24), \"18-24\")\n",
    "    .when(col(\"age\").between(25, 35), \"25-35\")\n",
    "    .when(col(\"age\").between(36, 50), \"36-50\")\n",
    "    .otherwise(\"50+\")\n",
    ")\n",
    "\n",
    "# Join df_users_age_grouped with df_pin on the user identifier to get follower counts\n",
    "df_joined = df_users_age_grouped.join(df_pin, 'ind', 'inner')\n",
    "\n",
    "# Group by age_group and post_year, and calculate the median follower count\n",
    "df_median_followers = df_joined.groupBy(\"age_group\", \"post_year\") \\\n",
    "                               .agg(expr(\"percentile_approx(follower_count, 0.5)\").alias(\"median_follower_count\"))\n",
    "\n",
    "display(df_median_followers)"
   ]
  }
 ],
 "metadata": {
  "application/vnd.databricks.v1+notebook": {
   "dashboards": [],
   "language": "python",
   "notebookMetadata": {
    "pythonIndentUnit": 4
   },
   "notebookName": "Query_Batch_Data",
   "widgets": {}
  },
  "language_info": {
   "name": "python"
  }
 },
 "nbformat": 4,
 "nbformat_minor": 0
}
